{
 "cells": [
  {
   "cell_type": "markdown",
   "id": "77c988f6-12d7-42da-9663-ff5eb30c1238",
   "metadata": {},
   "source": [
    "<div style=\"color:white;display:fill;border-radius:2px;background-color:#065222;font-size:32px;font-family:Nexa;letter-spacing:0.5px\">\n",
    "        <p style=\"padding: 10px;color:#f2f2f2;\"><b>ML For Credit Card Fraud Detection</b></p>\n",
    "</div>\n",
    "<h3>Here we will build a predictive algorithm to detect a fraudulent transaction using 'creditcard.csv' dataset."
   ]
  },
  {
   "cell_type": "markdown",
   "id": "8bdd082e-d82b-4c0c-9bb9-90bf98b99bc4",
   "metadata": {
    "scrolled": true
   },
   "source": [
    " <center><img src=\"Card_transactions.png\" width=\"600\" height=\"300\" ></center> "
   ]
  },
  {
   "cell_type": "markdown",
   "id": "9fed8cc5-cef2-4ecf-8faa-f88969f2f845",
   "metadata": {},
   "source": [
    "<a id=\"link0\"></a>\n",
    "<div style=\"color:white;display:fill;border-radius:2px;background-color:#141e66;font-size:32px;font-family:Nexa;letter-spacing:0.5px\">\n",
    "        <p style=\"padding: 10px;color:#f2f2f2;\"><b>Table of Contents</b></p>\n",
    "</div>\n",
    "\n",
    "<!-- 1) <a rel=\"noopener\" target=\"_self\" href=\"#link1\">About Data Set</a> -->\n",
    "1) <a target=\"_self\" href=\"#link1\">About Data Set</a>\n",
    "2) <a target=\"_self\" href=\"#link2\">Import Packages</a>\n",
    "3) <a target=\"_self\" href=\"#link3\">Data Loading and Description</a>\n",
    "4) <a target=\"_self\" href=\"#link4\">Data Exploring</a>\n",
    "5) <a target=\"_self\" href=\"#link5\">Feature Selection</a>\n",
    "6) <a target=\"_self\" href=\"#link6\">Model Train </a>\n",
    "7) <a target=\"_self\" href=\"#link7\">Model Selections/Evaluation </a>\n",
    "8) <a target=\"_self\" href=\"#link8\">Conclusions</a>"
   ]
  },
  {
   "cell_type": "markdown",
   "id": "91a80a8e-cb3f-409a-b163-105c49d91f2a",
   "metadata": {},
   "source": [
    "<a target=\"_self\" href=\"#link0\" id=\"link1\" style=\"color:green;font-weight:700;font-size:20px;\">1) About Dataset:</a><br>\n",
    "<p>The dataset contains credit card transactions made by European cardholders in September 2013. It comprises two days' worth of transactions, totaling 284,807 entries. Out of these transactions, only 492 are fraudulent, making the dataset highly unbalanced. The positive class (frauds) represents only 0.172% of all transactions.</p>\n",
    "\n",
    "The dataset provides numerical input variables obtained through PCA transformation. The features V1 to V28 are principal components, while 'Time' and 'Amount' are the only features not transformed. 'Time' represents the seconds elapsed between each transaction and the first transaction in the dataset, and 'Amount' represents the transaction amoun\n",
    "<br><span style=\"color:#8c1482;font-weight:500;font-size:18px;\">Content</span><br>\n",
    "This data was downloaded from info... https://www.kaggle.com/mlg-ulb/creditcardfraud"
   ]
  },
  {
   "cell_type": "markdown",
   "id": "269e9831-510b-4a00-b09e-56a5bdf65f3b",
   "metadata": {},
   "source": [
    "<a target=\"_self\" href=\"#link0\" id=\"link2\" style=\"color:green;font-weight:700;font-size:20px;\">2) Import Packages:</a>"
   ]
  },
  {
   "cell_type": "code",
   "execution_count": 1,
   "id": "49f9534f-3fce-4666-a6a8-648782d2fdf7",
   "metadata": {},
   "outputs": [],
   "source": [
    "# Importing the libraries\n",
    "import numpy as np\n",
    "import pandas as pd\n",
    "import matplotlib.pyplot as plt\n",
    "import seaborn as sns\n",
    "sns.set_theme(style=\"whitegrid\", palette=\"pastel\")\n",
    "sns.set(font_scale=1.5)\n",
    "import warnings\n",
    "warnings.filterwarnings('ignore')\n",
    "pd.options.display.float_format = '{:.4f}'.format"
   ]
  },
  {
   "cell_type": "markdown",
   "id": "1d5c94c2-e100-4159-8d23-1f8d1760c70e",
   "metadata": {},
   "source": [
    "<a target=\"_self\" href=\"#link0\" id=\"link3\" style=\"color:green;font-weight:700;font-size:20px;\">3) Data Loading and Description:</a>"
   ]
  },
  {
   "cell_type": "code",
   "execution_count": 2,
   "id": "5de47f6a-11d5-453a-80a4-ee5854b73e8f",
   "metadata": {},
   "outputs": [],
   "source": [
    "# Selecting only 1% of the legit transaction data from whole data to for sample\n",
    "df_input = pd.read_csv('creditcard.csv')\n",
    "legit = df_input[df_input['Class'] == 0].sample(n=3000, random_state =42)\n",
    "fraud = df_input[df_input['Class'] == 1]\n",
    "df = pd.concat([legit, fraud], ignore_index=True)"
   ]
  },
  {
   "cell_type": "code",
   "execution_count": 3,
   "id": "b072ec60-8c84-48c5-84ef-cec32abe0e31",
   "metadata": {},
   "outputs": [
    {
     "name": "stdout",
     "output_type": "stream",
     "text": [
      "<class 'pandas.core.frame.DataFrame'>\n",
      "RangeIndex: 3492 entries, 0 to 3491\n",
      "Data columns (total 31 columns):\n",
      " #   Column  Non-Null Count  Dtype  \n",
      "---  ------  --------------  -----  \n",
      " 0   Time    3492 non-null   float64\n",
      " 1   V1      3492 non-null   float64\n",
      " 2   V2      3492 non-null   float64\n",
      " 3   V3      3492 non-null   float64\n",
      " 4   V4      3492 non-null   float64\n",
      " 5   V5      3492 non-null   float64\n",
      " 6   V6      3492 non-null   float64\n",
      " 7   V7      3492 non-null   float64\n",
      " 8   V8      3492 non-null   float64\n",
      " 9   V9      3492 non-null   float64\n",
      " 10  V10     3492 non-null   float64\n",
      " 11  V11     3492 non-null   float64\n",
      " 12  V12     3492 non-null   float64\n",
      " 13  V13     3492 non-null   float64\n",
      " 14  V14     3492 non-null   float64\n",
      " 15  V15     3492 non-null   float64\n",
      " 16  V16     3492 non-null   float64\n",
      " 17  V17     3492 non-null   float64\n",
      " 18  V18     3492 non-null   float64\n",
      " 19  V19     3492 non-null   float64\n",
      " 20  V20     3492 non-null   float64\n",
      " 21  V21     3492 non-null   float64\n",
      " 22  V22     3492 non-null   float64\n",
      " 23  V23     3492 non-null   float64\n",
      " 24  V24     3492 non-null   float64\n",
      " 25  V25     3492 non-null   float64\n",
      " 26  V26     3492 non-null   float64\n",
      " 27  V27     3492 non-null   float64\n",
      " 28  V28     3492 non-null   float64\n",
      " 29  Amount  3492 non-null   float64\n",
      " 30  Class   3492 non-null   int64  \n",
      "dtypes: float64(30), int64(1)\n",
      "memory usage: 845.8 KB\n"
     ]
    }
   ],
   "source": [
    "df.info()"
   ]
  },
  {
   "cell_type": "markdown",
   "id": "a6197bf0-05f0-4930-83fb-26a800c48258",
   "metadata": {},
   "source": [
    "<a target=\"_self\" href=\"#link0\" id=\"link4\" style=\"color:green;font-weight:700;font-size:20px;\">4) Data Exploring:</a>"
   ]
  },
  {
   "cell_type": "code",
   "execution_count": 4,
   "id": "d7baba6d-61cc-4490-bfb3-f1e245f16228",
   "metadata": {},
   "outputs": [
    {
     "data": {
      "text/plain": [
       "Time      0\n",
       "V1        0\n",
       "V2        0\n",
       "V3        0\n",
       "V4        0\n",
       "V5        0\n",
       "V6        0\n",
       "V7        0\n",
       "V8        0\n",
       "V9        0\n",
       "V10       0\n",
       "V11       0\n",
       "V12       0\n",
       "V13       0\n",
       "V14       0\n",
       "V15       0\n",
       "V16       0\n",
       "V17       0\n",
       "V18       0\n",
       "V19       0\n",
       "V20       0\n",
       "V21       0\n",
       "V22       0\n",
       "V23       0\n",
       "V24       0\n",
       "V25       0\n",
       "V26       0\n",
       "V27       0\n",
       "V28       0\n",
       "Amount    0\n",
       "Class     0\n",
       "dtype: int64"
      ]
     },
     "execution_count": 4,
     "metadata": {},
     "output_type": "execute_result"
    }
   ],
   "source": [
    "# Cheking missing values in columns\n",
    "df.isnull().sum()"
   ]
  },
  {
   "cell_type": "code",
   "execution_count": 5,
   "id": "21cc750b-a9b1-4f37-a4e4-fbfeb2f250b4",
   "metadata": {},
   "outputs": [
    {
     "data": {
      "image/png": "[encoded data removed]",
      "text/plain": [
       "<Figure size 640x480 with 1 Axes>"
      ]
     },
     "metadata": {},
     "output_type": "display_data"
    }
   ],
   "source": [
    "#Pie Chart\n",
    "fraud= (df['Class'].value_counts(normalize=True)).loc[1]\n",
    "# fraudulent_percentage = (df['Class'].value_counts(normalize=True) * 100).loc[1]\n",
    "non_fraud = (df['Class'].value_counts(normalize=True)).loc[0]\n",
    "# non_fraudulent_percentage = (df['Class'].value_counts(normalize=True) * 100).loc[0]\n",
    "\n",
    "# Declaring data \n",
    "values=[non_fraud,fraud]\n",
    "labels=['Normal Transactions','Fraudulent Transactions']\n",
    "palette_color = sns.color_palette('pastel') \n",
    "# plotting data on chart \n",
    "plt.pie(values, labels=labels, colors=palette_color, autopct='%.2f%%', shadow=True, startangle=60)\n",
    "plt.title(\"Distribution of Normal and Non-Fraudulent Transactions\")\n",
    "plt.xlabel('Class: 0=Normal Transactions, 1=Fraudulent Transactions')\n",
    "  \n",
    "# displaying chart \n",
    "plt.show() "
   ]
  },
  {
   "cell_type": "code",
   "execution_count": 6,
   "id": "9c6d4d3a-07b1-462c-9e6b-c6fcb1e7519c",
   "metadata": {},
   "outputs": [
    {
     "data": {
      "text/html": [
       "<div>\n",
       "<style scoped>\n",
       "    .dataframe tbody tr th:only-of-type {\n",
       "        vertical-align: middle;\n",
       "    }\n",
       "\n",
       "    .dataframe tbody tr th {\n",
       "        vertical-align: top;\n",
       "    }\n",
       "\n",
       "    .dataframe thead th {\n",
       "        text-align: right;\n",
       "    }\n",
       "</style>\n",
       "<table border=\"1\" class=\"dataframe\">\n",
       "  <thead>\n",
       "    <tr style=\"text-align: right;\">\n",
       "      <th></th>\n",
       "      <th>mean</th>\n",
       "      <th>median</th>\n",
       "      <th>min</th>\n",
       "      <th>max</th>\n",
       "    </tr>\n",
       "    <tr>\n",
       "      <th>Class</th>\n",
       "      <th></th>\n",
       "      <th></th>\n",
       "      <th></th>\n",
       "      <th></th>\n",
       "    </tr>\n",
       "  </thead>\n",
       "  <tbody>\n",
       "    <tr>\n",
       "      <th>0</th>\n",
       "      <td>85.6929</td>\n",
       "      <td>21.7450</td>\n",
       "      <td>0.0000</td>\n",
       "      <td>4000.0000</td>\n",
       "    </tr>\n",
       "    <tr>\n",
       "      <th>1</th>\n",
       "      <td>122.2113</td>\n",
       "      <td>9.2500</td>\n",
       "      <td>0.0000</td>\n",
       "      <td>2125.8700</td>\n",
       "    </tr>\n",
       "  </tbody>\n",
       "</table>\n",
       "</div>"
      ],
      "text/plain": [
       "          mean  median    min       max\n",
       "Class                                  \n",
       "0      85.6929 21.7450 0.0000 4000.0000\n",
       "1     122.2113  9.2500 0.0000 2125.8700"
      ]
     },
     "execution_count": 6,
     "metadata": {},
     "output_type": "execute_result"
    }
   ],
   "source": [
    "# Transactions Stats\n",
    "# Class: 0=Normal Transactions, 1=Fraudulent Transactions\n",
    "stats=df.groupby('Class')['Amount'].agg(['mean', 'median', 'min', 'max'])\n",
    "# stats=df.groupby('Class')['Amount'].agg(['mean', 'median', 'min', 'max']).reset_index()\n",
    "# ststs['Class']=stats['Class'].replace(['0','1'],['01','11'])\n",
    "# ststs['Class']=stats['Class'].replace({0: 10, 1: 100})\n",
    "stats\n",
    "# df['column name'] = df['column name'].replace(['1st old value', '2nd old value', ...], 'new value')"
   ]
  },
  {
   "cell_type": "code",
   "execution_count": 7,
   "id": "787ec5fb-6632-4df4-b40f-3b7a610a4f56",
   "metadata": {},
   "outputs": [
    {
     "data": {
      "image/png": "[encoded data removed]",
      "text/plain": [
       "<Figure size 1400x1000 with 1 Axes>"
      ]
     },
     "metadata": {},
     "output_type": "display_data"
    }
   ],
   "source": [
    "# Calculate the correlation between all columns and the 'Class' column\n",
    "correlation_with_class = df.corr()['Class'].sort_values(ascending=False)\n",
    "\n",
    "# Plot the correlation as a bar plot\n",
    "plt.figure(figsize=(14, 10))\n",
    "sns.barplot(x=correlation_with_class.index, y=correlation_with_class.values)\n",
    "plt.xticks(rotation=90)\n",
    "plt.title('Correlation with Class (Target Variable)')\n",
    "plt.xlabel('Features')\n",
    "plt.ylabel('Correlation')\n",
    "plt.show()"
   ]
  },
  {
   "cell_type": "markdown",
   "id": "1eba0082-6367-4cbb-81ef-17e330a018a5",
   "metadata": {},
   "source": [
    "<a target=\"_self\" href=\"#link0\" id=\"link5\" style=\"color:green;font-weight:700;font-size:20px;\">5) Feature Selection:</a>"
   ]
  },
  {
   "cell_type": "code",
   "execution_count": 8,
   "id": "d84282b9-72a6-4762-bf46-5fa78870305b",
   "metadata": {},
   "outputs": [
    {
     "data": {
      "text/html": [
       "<div>\n",
       "<style scoped>\n",
       "    .dataframe tbody tr th:only-of-type {\n",
       "        vertical-align: middle;\n",
       "    }\n",
       "\n",
       "    .dataframe tbody tr th {\n",
       "        vertical-align: top;\n",
       "    }\n",
       "\n",
       "    .dataframe thead th {\n",
       "        text-align: right;\n",
       "    }\n",
       "</style>\n",
       "<table border=\"1\" class=\"dataframe\">\n",
       "  <thead>\n",
       "    <tr style=\"text-align: right;\">\n",
       "      <th></th>\n",
       "      <th>V1</th>\n",
       "      <th>V2</th>\n",
       "      <th>V3</th>\n",
       "      <th>V4</th>\n",
       "      <th>V5</th>\n",
       "      <th>V6</th>\n",
       "      <th>V7</th>\n",
       "      <th>V8</th>\n",
       "      <th>V9</th>\n",
       "      <th>V10</th>\n",
       "      <th>...</th>\n",
       "      <th>V20</th>\n",
       "      <th>V21</th>\n",
       "      <th>V22</th>\n",
       "      <th>V23</th>\n",
       "      <th>V24</th>\n",
       "      <th>V25</th>\n",
       "      <th>V26</th>\n",
       "      <th>V27</th>\n",
       "      <th>V28</th>\n",
       "      <th>Class</th>\n",
       "    </tr>\n",
       "  </thead>\n",
       "  <tbody>\n",
       "    <tr>\n",
       "      <th>0</th>\n",
       "      <td>1.3145</td>\n",
       "      <td>0.5906</td>\n",
       "      <td>-0.6666</td>\n",
       "      <td>0.7166</td>\n",
       "      <td>0.3020</td>\n",
       "      <td>-1.1255</td>\n",
       "      <td>0.3889</td>\n",
       "      <td>-0.2884</td>\n",
       "      <td>-0.1321</td>\n",
       "      <td>-0.5977</td>\n",
       "      <td>...</td>\n",
       "      <td>-0.0580</td>\n",
       "      <td>-0.1703</td>\n",
       "      <td>-0.4297</td>\n",
       "      <td>-0.1413</td>\n",
       "      <td>-0.2002</td>\n",
       "      <td>0.6395</td>\n",
       "      <td>0.3995</td>\n",
       "      <td>-0.0343</td>\n",
       "      <td>0.0317</td>\n",
       "      <td>0</td>\n",
       "    </tr>\n",
       "    <tr>\n",
       "      <th>1</th>\n",
       "      <td>-0.7987</td>\n",
       "      <td>1.1851</td>\n",
       "      <td>0.9045</td>\n",
       "      <td>0.6946</td>\n",
       "      <td>0.2190</td>\n",
       "      <td>-0.3193</td>\n",
       "      <td>0.4952</td>\n",
       "      <td>0.1393</td>\n",
       "      <td>-0.7602</td>\n",
       "      <td>0.1705</td>\n",
       "      <td>...</td>\n",
       "      <td>-0.0813</td>\n",
       "      <td>0.2023</td>\n",
       "      <td>0.5787</td>\n",
       "      <td>-0.0922</td>\n",
       "      <td>0.0137</td>\n",
       "      <td>-0.2465</td>\n",
       "      <td>-0.3801</td>\n",
       "      <td>-0.3960</td>\n",
       "      <td>-0.1129</td>\n",
       "      <td>0</td>\n",
       "    </tr>\n",
       "    <tr>\n",
       "      <th>2</th>\n",
       "      <td>-0.3911</td>\n",
       "      <td>-0.2455</td>\n",
       "      <td>1.1221</td>\n",
       "      <td>-1.3087</td>\n",
       "      <td>-0.6399</td>\n",
       "      <td>0.0087</td>\n",
       "      <td>-0.7013</td>\n",
       "      <td>-0.0273</td>\n",
       "      <td>-2.6289</td>\n",
       "      <td>2.0513</td>\n",
       "      <td>...</td>\n",
       "      <td>0.0657</td>\n",
       "      <td>-0.1335</td>\n",
       "      <td>0.1174</td>\n",
       "      <td>-0.1917</td>\n",
       "      <td>-0.4886</td>\n",
       "      <td>-0.3098</td>\n",
       "      <td>0.0081</td>\n",
       "      <td>0.1637</td>\n",
       "      <td>0.2396</td>\n",
       "      <td>0</td>\n",
       "    </tr>\n",
       "    <tr>\n",
       "      <th>3</th>\n",
       "      <td>-0.0603</td>\n",
       "      <td>1.0651</td>\n",
       "      <td>-0.9874</td>\n",
       "      <td>-0.0296</td>\n",
       "      <td>0.1764</td>\n",
       "      <td>-1.3485</td>\n",
       "      <td>0.7756</td>\n",
       "      <td>0.1348</td>\n",
       "      <td>-0.1497</td>\n",
       "      <td>-1.2386</td>\n",
       "      <td>...</td>\n",
       "      <td>-0.1697</td>\n",
       "      <td>0.3556</td>\n",
       "      <td>0.9076</td>\n",
       "      <td>-0.0185</td>\n",
       "      <td>-0.1263</td>\n",
       "      <td>-0.3399</td>\n",
       "      <td>-0.1503</td>\n",
       "      <td>-0.0236</td>\n",
       "      <td>0.0423</td>\n",
       "      <td>0</td>\n",
       "    </tr>\n",
       "    <tr>\n",
       "      <th>4</th>\n",
       "      <td>1.8484</td>\n",
       "      <td>0.3734</td>\n",
       "      <td>0.2693</td>\n",
       "      <td>3.8664</td>\n",
       "      <td>0.0881</td>\n",
       "      <td>0.9704</td>\n",
       "      <td>-0.7219</td>\n",
       "      <td>0.2360</td>\n",
       "      <td>0.6835</td>\n",
       "      <td>1.1663</td>\n",
       "      <td>...</td>\n",
       "      <td>-0.2828</td>\n",
       "      <td>0.1036</td>\n",
       "      <td>0.6210</td>\n",
       "      <td>0.1971</td>\n",
       "      <td>0.6924</td>\n",
       "      <td>-0.2065</td>\n",
       "      <td>-0.0213</td>\n",
       "      <td>-0.0198</td>\n",
       "      <td>-0.0427</td>\n",
       "      <td>0</td>\n",
       "    </tr>\n",
       "  </tbody>\n",
       "</table>\n",
       "<p>5 rows × 29 columns</p>\n",
       "</div>"
      ],
      "text/plain": [
       "       V1      V2      V3      V4      V5      V6      V7      V8      V9  \\\n",
       "0  1.3145  0.5906 -0.6666  0.7166  0.3020 -1.1255  0.3889 -0.2884 -0.1321   \n",
       "1 -0.7987  1.1851  0.9045  0.6946  0.2190 -0.3193  0.4952  0.1393 -0.7602   \n",
       "2 -0.3911 -0.2455  1.1221 -1.3087 -0.6399  0.0087 -0.7013 -0.0273 -2.6289   \n",
       "3 -0.0603  1.0651 -0.9874 -0.0296  0.1764 -1.3485  0.7756  0.1348 -0.1497   \n",
       "4  1.8484  0.3734  0.2693  3.8664  0.0881  0.9704 -0.7219  0.2360  0.6835   \n",
       "\n",
       "      V10  ...     V20     V21     V22     V23     V24     V25     V26  \\\n",
       "0 -0.5977  ... -0.0580 -0.1703 -0.4297 -0.1413 -0.2002  0.6395  0.3995   \n",
       "1  0.1705  ... -0.0813  0.2023  0.5787 -0.0922  0.0137 -0.2465 -0.3801   \n",
       "2  2.0513  ...  0.0657 -0.1335  0.1174 -0.1917 -0.4886 -0.3098  0.0081   \n",
       "3 -1.2386  ... -0.1697  0.3556  0.9076 -0.0185 -0.1263 -0.3399 -0.1503   \n",
       "4  1.1663  ... -0.2828  0.1036  0.6210  0.1971  0.6924 -0.2065 -0.0213   \n",
       "\n",
       "      V27     V28  Class  \n",
       "0 -0.0343  0.0317      0  \n",
       "1 -0.3960 -0.1129      0  \n",
       "2  0.1637  0.2396      0  \n",
       "3 -0.0236  0.0423      0  \n",
       "4 -0.0198 -0.0427      0  \n",
       "\n",
       "[5 rows x 29 columns]"
      ]
     },
     "execution_count": 8,
     "metadata": {},
     "output_type": "execute_result"
    }
   ],
   "source": [
    "# Do PCA Before this step???\n",
    "df = df.drop(['Amount','Time'], axis=1)\n",
    "# df = df.drop(['Time'], axis=1)\n",
    "df.head()"
   ]
  },
  {
   "cell_type": "markdown",
   "id": "6bea34ac-a738-42c4-8edc-392df2dc3efc",
   "metadata": {},
   "source": [
    "<a target=\"_self\" href=\"#link0\" id=\"link6\" style=\"color:green;font-weight:700;font-size:20px;\">6) Model Train:</a>"
   ]
  },
  {
   "cell_type": "code",
   "execution_count": 9,
   "id": "4f945edd-1fcf-4110-868f-76332247d4ff",
   "metadata": {},
   "outputs": [],
   "source": [
    "from sklearn.model_selection import train_test_split\n",
    "from sklearn.preprocessing import StandardScaler\n",
    "\n",
    "# Putting feature variables into X\n",
    "X = df.drop(['Class'], axis=1)\n",
    "# Putting target variable to y\n",
    "y = df['Class']\n",
    "# Splitting data into train and test set 80:20\n",
    "X_train, X_test, y_train, y_test = train_test_split(X, y, train_size=0.8, test_size=0.2, random_state=42)"
   ]
  },
  {
   "cell_type": "code",
   "execution_count": 10,
   "id": "03db4f36-4ff0-4829-92fb-847c4c34588a",
   "metadata": {},
   "outputs": [
    {
     "data": {
      "text/html": [
       "<div>\n",
       "<style scoped>\n",
       "    .dataframe tbody tr th:only-of-type {\n",
       "        vertical-align: middle;\n",
       "    }\n",
       "\n",
       "    .dataframe tbody tr th {\n",
       "        vertical-align: top;\n",
       "    }\n",
       "\n",
       "    .dataframe thead th {\n",
       "        text-align: right;\n",
       "    }\n",
       "</style>\n",
       "<table border=\"1\" class=\"dataframe\">\n",
       "  <thead>\n",
       "    <tr style=\"text-align: right;\">\n",
       "      <th></th>\n",
       "      <th>V1</th>\n",
       "      <th>V2</th>\n",
       "      <th>V3</th>\n",
       "      <th>V4</th>\n",
       "      <th>V5</th>\n",
       "      <th>V6</th>\n",
       "      <th>V7</th>\n",
       "      <th>V8</th>\n",
       "      <th>V9</th>\n",
       "      <th>V10</th>\n",
       "      <th>...</th>\n",
       "      <th>V19</th>\n",
       "      <th>V20</th>\n",
       "      <th>V21</th>\n",
       "      <th>V22</th>\n",
       "      <th>V23</th>\n",
       "      <th>V24</th>\n",
       "      <th>V25</th>\n",
       "      <th>V26</th>\n",
       "      <th>V27</th>\n",
       "      <th>V28</th>\n",
       "    </tr>\n",
       "  </thead>\n",
       "  <tbody>\n",
       "    <tr>\n",
       "      <th>1204</th>\n",
       "      <td>-4.6242</td>\n",
       "      <td>-2.9094</td>\n",
       "      <td>1.6671</td>\n",
       "      <td>0.3295</td>\n",
       "      <td>-1.3666</td>\n",
       "      <td>0.5174</td>\n",
       "      <td>1.1465</td>\n",
       "      <td>-1.3681</td>\n",
       "      <td>0.8742</td>\n",
       "      <td>2.6367</td>\n",
       "      <td>...</td>\n",
       "      <td>1.4179</td>\n",
       "      <td>-2.7159</td>\n",
       "      <td>-1.3635</td>\n",
       "      <td>-0.3848</td>\n",
       "      <td>0.8512</td>\n",
       "      <td>0.6146</td>\n",
       "      <td>0.1312</td>\n",
       "      <td>0.5729</td>\n",
       "      <td>-2.5535</td>\n",
       "      <td>1.9324</td>\n",
       "    </tr>\n",
       "    <tr>\n",
       "      <th>940</th>\n",
       "      <td>0.0674</td>\n",
       "      <td>1.2510</td>\n",
       "      <td>-1.1614</td>\n",
       "      <td>-0.2178</td>\n",
       "      <td>0.7059</td>\n",
       "      <td>-1.0479</td>\n",
       "      <td>0.6499</td>\n",
       "      <td>0.1398</td>\n",
       "      <td>-0.2241</td>\n",
       "      <td>-1.2195</td>\n",
       "      <td>...</td>\n",
       "      <td>0.0536</td>\n",
       "      <td>-0.2011</td>\n",
       "      <td>0.2950</td>\n",
       "      <td>0.8694</td>\n",
       "      <td>-0.2253</td>\n",
       "      <td>-0.7259</td>\n",
       "      <td>-0.2459</td>\n",
       "      <td>-0.1127</td>\n",
       "      <td>-0.0010</td>\n",
       "      <td>0.0342</td>\n",
       "    </tr>\n",
       "    <tr>\n",
       "      <th>1228</th>\n",
       "      <td>-0.1170</td>\n",
       "      <td>0.8218</td>\n",
       "      <td>-1.0816</td>\n",
       "      <td>-1.3232</td>\n",
       "      <td>1.5853</td>\n",
       "      <td>-0.7410</td>\n",
       "      <td>1.4782</td>\n",
       "      <td>-0.1547</td>\n",
       "      <td>-0.4922</td>\n",
       "      <td>-0.3003</td>\n",
       "      <td>...</td>\n",
       "      <td>0.2696</td>\n",
       "      <td>-0.0334</td>\n",
       "      <td>0.2736</td>\n",
       "      <td>0.8332</td>\n",
       "      <td>-0.2075</td>\n",
       "      <td>0.2438</td>\n",
       "      <td>-0.2978</td>\n",
       "      <td>0.0708</td>\n",
       "      <td>0.3737</td>\n",
       "      <td>0.2614</td>\n",
       "    </tr>\n",
       "    <tr>\n",
       "      <th>1402</th>\n",
       "      <td>-1.5370</td>\n",
       "      <td>-0.0414</td>\n",
       "      <td>0.6298</td>\n",
       "      <td>-0.6870</td>\n",
       "      <td>0.7961</td>\n",
       "      <td>-0.4858</td>\n",
       "      <td>-0.3027</td>\n",
       "      <td>0.7374</td>\n",
       "      <td>-0.0691</td>\n",
       "      <td>-0.6347</td>\n",
       "      <td>...</td>\n",
       "      <td>0.4989</td>\n",
       "      <td>0.1347</td>\n",
       "      <td>-0.1080</td>\n",
       "      <td>-0.7012</td>\n",
       "      <td>-0.1845</td>\n",
       "      <td>-0.8516</td>\n",
       "      <td>-0.1295</td>\n",
       "      <td>0.3455</td>\n",
       "      <td>0.1785</td>\n",
       "      <td>-0.0542</td>\n",
       "    </tr>\n",
       "    <tr>\n",
       "      <th>547</th>\n",
       "      <td>-0.3352</td>\n",
       "      <td>0.4829</td>\n",
       "      <td>0.7430</td>\n",
       "      <td>-0.5771</td>\n",
       "      <td>0.6078</td>\n",
       "      <td>-0.4609</td>\n",
       "      <td>1.1105</td>\n",
       "      <td>-0.7376</td>\n",
       "      <td>0.7580</td>\n",
       "      <td>0.0528</td>\n",
       "      <td>...</td>\n",
       "      <td>-0.4527</td>\n",
       "      <td>-0.2393</td>\n",
       "      <td>0.0253</td>\n",
       "      <td>0.6522</td>\n",
       "      <td>0.1331</td>\n",
       "      <td>1.1230</td>\n",
       "      <td>-0.3064</td>\n",
       "      <td>-0.5600</td>\n",
       "      <td>-0.6959</td>\n",
       "      <td>-0.4968</td>\n",
       "    </tr>\n",
       "  </tbody>\n",
       "</table>\n",
       "<p>5 rows × 28 columns</p>\n",
       "</div>"
      ],
      "text/plain": [
       "          V1      V2      V3      V4      V5      V6      V7      V8      V9  \\\n",
       "1204 -4.6242 -2.9094  1.6671  0.3295 -1.3666  0.5174  1.1465 -1.3681  0.8742   \n",
       "940   0.0674  1.2510 -1.1614 -0.2178  0.7059 -1.0479  0.6499  0.1398 -0.2241   \n",
       "1228 -0.1170  0.8218 -1.0816 -1.3232  1.5853 -0.7410  1.4782 -0.1547 -0.4922   \n",
       "1402 -1.5370 -0.0414  0.6298 -0.6870  0.7961 -0.4858 -0.3027  0.7374 -0.0691   \n",
       "547  -0.3352  0.4829  0.7430 -0.5771  0.6078 -0.4609  1.1105 -0.7376  0.7580   \n",
       "\n",
       "         V10  ...     V19     V20     V21     V22     V23     V24     V25  \\\n",
       "1204  2.6367  ...  1.4179 -2.7159 -1.3635 -0.3848  0.8512  0.6146  0.1312   \n",
       "940  -1.2195  ...  0.0536 -0.2011  0.2950  0.8694 -0.2253 -0.7259 -0.2459   \n",
       "1228 -0.3003  ...  0.2696 -0.0334  0.2736  0.8332 -0.2075  0.2438 -0.2978   \n",
       "1402 -0.6347  ...  0.4989  0.1347 -0.1080 -0.7012 -0.1845 -0.8516 -0.1295   \n",
       "547   0.0528  ... -0.4527 -0.2393  0.0253  0.6522  0.1331  1.1230 -0.3064   \n",
       "\n",
       "         V26     V27     V28  \n",
       "1204  0.5729 -2.5535  1.9324  \n",
       "940  -0.1127 -0.0010  0.0342  \n",
       "1228  0.0708  0.3737  0.2614  \n",
       "1402  0.3455  0.1785 -0.0542  \n",
       "547  -0.5600 -0.6959 -0.4968  \n",
       "\n",
       "[5 rows x 28 columns]"
      ]
     },
     "execution_count": 10,
     "metadata": {},
     "output_type": "execute_result"
    }
   ],
   "source": [
    "X_train.head()"
   ]
  },
  {
   "cell_type": "code",
   "execution_count": 11,
   "id": "442bbb7d-619c-4149-9850-d574e4734a23",
   "metadata": {},
   "outputs": [
    {
     "data": {
      "text/plain": [
       "1204    0\n",
       "940     0\n",
       "1228    0\n",
       "1402    0\n",
       "547     0\n",
       "Name: Class, dtype: int64"
      ]
     },
     "execution_count": 11,
     "metadata": {},
     "output_type": "execute_result"
    }
   ],
   "source": [
    "y_train.head()"
   ]
  },
  {
   "cell_type": "markdown",
   "id": "2853e727-7261-4f9a-a431-77a52f9ef7dd",
   "metadata": {},
   "source": [
    "### Handling Imbalanced Data"
   ]
  },
  {
   "cell_type": "code",
   "execution_count": 12,
   "id": "8215f6f4-163c-42cc-a0bc-2d6a2a365fac",
   "metadata": {},
   "outputs": [
    {
     "data": {
      "text/plain": [
       "Class\n",
       "0    2390\n",
       "1    1195\n",
       "Name: count, dtype: int64"
      ]
     },
     "execution_count": 12,
     "metadata": {},
     "output_type": "execute_result"
    }
   ],
   "source": [
    "import imblearn\n",
    "from imblearn.over_sampling import SMOTE\n",
    "over = SMOTE(sampling_strategy=0.5, random_state = 42)\n",
    "X_train,y_train = over.fit_resample(X_train, y_train)\n",
    "\n",
    "y_train.value_counts()"
   ]
  },
  {
   "cell_type": "markdown",
   "id": "d44f649b-e123-4580-9a15-22964131012f",
   "metadata": {},
   "source": [
    "<a target=\"_self\" href=\"#link0\" id=\"link7\" style=\"color:green;font-weight:700;font-size:20px;\">7) Model Selections/Evaluation:</a><br/>"
   ]
  },
  {
   "cell_type": "code",
   "execution_count": 13,
   "id": "e2ba8e15-c039-447f-834a-378915d0eca3",
   "metadata": {},
   "outputs": [],
   "source": [
    "# Simple ML models\n",
    "# from sklearn.svm import SVC\n",
    "from sklearn.linear_model import LogisticRegression\n",
    "from sklearn.neighbors import KNeighborsClassifier\n",
    "from sklearn.tree import DecisionTreeClassifier\n",
    "\n",
    "# Ensemble Learning\n",
    "from sklearn.ensemble import RandomForestClassifier\n",
    "from sklearn.ensemble import GradientBoostingClassifier\n",
    "\n",
    "# Model Selection\n",
    "from sklearn.model_selection import GridSearchCV\n",
    "from sklearn.model_selection import RandomizedSearchCV\n",
    "from sklearn.model_selection import cross_val_score\n",
    "from sklearn.pipeline import Pipeline"
   ]
  },
  {
   "cell_type": "code",
   "execution_count": 14,
   "id": "973704af-6d0c-41d0-9b8a-4eec073cc202",
   "metadata": {},
   "outputs": [],
   "source": [
    "from sklearn import svm\n",
    "from sklearn.ensemble import RandomForestClassifier\n",
    "from sklearn.linear_model import LogisticRegression\n",
    "\n",
    "model_params = {\n",
    "    'svc': {\n",
    "        'model': svm.SVC(gamma='auto'),\n",
    "        'params' : {'C': [0.1, 1], 'kernel': ['linear', 'rbf']\n",
    "        }  \n",
    "    },\n",
    "    'random_forest': {\n",
    "        'model': RandomForestClassifier(),\n",
    "        'params' : {'n_estimators': [50, 100] , 'max_depth': [None, 10, 20]\n",
    "        }\n",
    "    },\n",
    "    'dtree_model' : {\n",
    "        'model': DecisionTreeClassifier(),\n",
    "        'params': {'criterion': ['gini', 'entropy'], 'max_depth': [None, 10, 20]\n",
    "        }\n",
    "    },\n",
    "    'knn_model' : {\n",
    "        'model': KNeighborsClassifier(),\n",
    "        'params': {'n_neighbors': [3, 5, 7], 'weights': ['uniform', 'distance']\n",
    "        }\n",
    "    },\n",
    "    'logistic_regression' : {\n",
    "        'model': LogisticRegression(solver='liblinear',multi_class='auto'),\n",
    "        'params': {'C': [0.001, 0.01, 0.1, 1]\n",
    "        }\n",
    "    }\n",
    "}"
   ]
  },
  {
   "cell_type": "code",
   "execution_count": 15,
   "id": "99006ec4-bef9-4fb1-9733-79b00e6311e1",
   "metadata": {},
   "outputs": [],
   "source": [
    "scores = []\n",
    "\n",
    "for model_name, mp in model_params.items():\n",
    "    # clf =  GridSearchCV(mp['model'], mp['params'], cv=5, n_jobs=-1, scoring='roc_auc',return_train_score=False)\n",
    "    clf =  GridSearchCV(mp['model'], mp['params'], cv=5, n_jobs=-1, scoring='average_precision',return_train_score=False)\n",
    "    # clf =  GridSearchCV(mp['model'], mp['params'], cv=5, n_jobs=-1, scoring='accuracy',return_train_score=False)\n",
    "    # clf =  GridSearchCV(mp['model'], mp['params'], cv=5, n_jobs=-1, scoring='f1',return_train_score=False)\n",
    "    clf.fit(X_train, y_train)\n",
    "    scores.append({\n",
    "        'model': model_name,\n",
    "        'best_score': clf.best_score_,\n",
    "        'best_params': clf.best_params_,\n",
    "        # 'accuracy_score': accuracy_score(y_test, pred_y)\n",
    "    })\n",
    "\n",
    "df = pd.DataFrame(scores,columns=['model','best_score','best_params'])"
   ]
  },
  {
   "cell_type": "code",
   "execution_count": 16,
   "id": "1ab2a0a7-2aa8-47d7-bcab-b4dae6aa0742",
   "metadata": {},
   "outputs": [
    {
     "name": "stdout",
     "output_type": "stream",
     "text": [
      "n=3000, 1% of Data Scores (With SMOTE and amount column) (No Time & Amount Column)\n"
     ]
    },
    {
     "data": {
      "text/html": [
       "<div>\n",
       "<style scoped>\n",
       "    .dataframe tbody tr th:only-of-type {\n",
       "        vertical-align: middle;\n",
       "    }\n",
       "\n",
       "    .dataframe tbody tr th {\n",
       "        vertical-align: top;\n",
       "    }\n",
       "\n",
       "    .dataframe thead th {\n",
       "        text-align: right;\n",
       "    }\n",
       "</style>\n",
       "<table border=\"1\" class=\"dataframe\">\n",
       "  <thead>\n",
       "    <tr style=\"text-align: right;\">\n",
       "      <th></th>\n",
       "      <th>model</th>\n",
       "      <th>best_score</th>\n",
       "      <th>best_params</th>\n",
       "    </tr>\n",
       "  </thead>\n",
       "  <tbody>\n",
       "    <tr>\n",
       "      <th>0</th>\n",
       "      <td>svc</td>\n",
       "      <td>0.9832</td>\n",
       "      <td>{'C': 1, 'kernel': 'rbf'}</td>\n",
       "    </tr>\n",
       "    <tr>\n",
       "      <th>1</th>\n",
       "      <td>random_forest</td>\n",
       "      <td>0.9935</td>\n",
       "      <td>{'max_depth': 20, 'n_estimators': 100}</td>\n",
       "    </tr>\n",
       "    <tr>\n",
       "      <th>2</th>\n",
       "      <td>dtree_model</td>\n",
       "      <td>0.9255</td>\n",
       "      <td>{'criterion': 'gini', 'max_depth': 10}</td>\n",
       "    </tr>\n",
       "    <tr>\n",
       "      <th>3</th>\n",
       "      <td>knn_model</td>\n",
       "      <td>0.9888</td>\n",
       "      <td>{'n_neighbors': 7, 'weights': 'distance'}</td>\n",
       "    </tr>\n",
       "    <tr>\n",
       "      <th>4</th>\n",
       "      <td>logistic_regression</td>\n",
       "      <td>0.9807</td>\n",
       "      <td>{'C': 1}</td>\n",
       "    </tr>\n",
       "  </tbody>\n",
       "</table>\n",
       "</div>"
      ],
      "text/plain": [
       "                 model  best_score                                best_params\n",
       "0                  svc      0.9832                  {'C': 1, 'kernel': 'rbf'}\n",
       "1        random_forest      0.9935     {'max_depth': 20, 'n_estimators': 100}\n",
       "2          dtree_model      0.9255     {'criterion': 'gini', 'max_depth': 10}\n",
       "3            knn_model      0.9888  {'n_neighbors': 7, 'weights': 'distance'}\n",
       "4  logistic_regression      0.9807                                   {'C': 1}"
      ]
     },
     "execution_count": 16,
     "metadata": {},
     "output_type": "execute_result"
    }
   ],
   "source": [
    "print('n=3000, 1% of Data Scores (With SMOTE and amount column) (No Time & Amount Column)')\n",
    "# best_score_roc_auc\n",
    "df"
   ]
  },
  {
   "cell_type": "code",
   "execution_count": 17,
   "id": "30f1ef81-d2f9-465f-af56-7fdcd739e921",
   "metadata": {},
   "outputs": [
    {
     "name": "stdout",
     "output_type": "stream",
     "text": [
      "n=3000, 1% of Data Scores (With SMOTE and amount column) (No Time & Amount Column)\n"
     ]
    },
    {
     "data": {
      "text/html": [
       "<div>\n",
       "<style scoped>\n",
       "    .dataframe tbody tr th:only-of-type {\n",
       "        vertical-align: middle;\n",
       "    }\n",
       "\n",
       "    .dataframe tbody tr th {\n",
       "        vertical-align: top;\n",
       "    }\n",
       "\n",
       "    .dataframe thead th {\n",
       "        text-align: right;\n",
       "    }\n",
       "</style>\n",
       "<table border=\"1\" class=\"dataframe\">\n",
       "  <thead>\n",
       "    <tr style=\"text-align: right;\">\n",
       "      <th></th>\n",
       "      <th>model</th>\n",
       "      <th>best_score</th>\n",
       "      <th>best_params</th>\n",
       "    </tr>\n",
       "  </thead>\n",
       "  <tbody>\n",
       "    <tr>\n",
       "      <th>0</th>\n",
       "      <td>svc</td>\n",
       "      <td>0.9832</td>\n",
       "      <td>{'C': 1, 'kernel': 'rbf'}</td>\n",
       "    </tr>\n",
       "    <tr>\n",
       "      <th>1</th>\n",
       "      <td>random_forest</td>\n",
       "      <td>0.9935</td>\n",
       "      <td>{'max_depth': 20, 'n_estimators': 100}</td>\n",
       "    </tr>\n",
       "    <tr>\n",
       "      <th>2</th>\n",
       "      <td>dtree_model</td>\n",
       "      <td>0.9255</td>\n",
       "      <td>{'criterion': 'gini', 'max_depth': 10}</td>\n",
       "    </tr>\n",
       "    <tr>\n",
       "      <th>3</th>\n",
       "      <td>knn_model</td>\n",
       "      <td>0.9888</td>\n",
       "      <td>{'n_neighbors': 7, 'weights': 'distance'}</td>\n",
       "    </tr>\n",
       "    <tr>\n",
       "      <th>4</th>\n",
       "      <td>logistic_regression</td>\n",
       "      <td>0.9807</td>\n",
       "      <td>{'C': 1}</td>\n",
       "    </tr>\n",
       "  </tbody>\n",
       "</table>\n",
       "</div>"
      ],
      "text/plain": [
       "                 model  best_score                                best_params\n",
       "0                  svc      0.9832                  {'C': 1, 'kernel': 'rbf'}\n",
       "1        random_forest      0.9935     {'max_depth': 20, 'n_estimators': 100}\n",
       "2          dtree_model      0.9255     {'criterion': 'gini', 'max_depth': 10}\n",
       "3            knn_model      0.9888  {'n_neighbors': 7, 'weights': 'distance'}\n",
       "4  logistic_regression      0.9807                                   {'C': 1}"
      ]
     },
     "execution_count": 17,
     "metadata": {},
     "output_type": "execute_result"
    }
   ],
   "source": [
    "print('n=3000, 1% of Data Scores (With SMOTE and amount column) (No Time & Amount Column)')\n",
    "# best_score_roc_auc\n",
    "df"
   ]
  },
  {
   "cell_type": "markdown",
   "id": "204aae13-3ed5-4bd1-adf0-98b44fca150d",
   "metadata": {},
   "source": [
    "<a target=\"_self\" href=\"#link0\" id=\"link8\" style=\"color:green;font-weight:700;font-size:20px;\">8) Conclusions:</a>"
   ]
  },
  {
   "cell_type": "raw",
   "id": "6eaa3b98-13f9-4a41-896b-138fd2613362",
   "metadata": {},
   "source": [
    "Random_forest, SVC, Knn_model are top 3 best predictors "
   ]
  },
  {
   "cell_type": "raw",
   "id": "faf7733b-14b3-4bfc-b678-e2f7b90f770d",
   "metadata": {},
   "source": [
    "dir(clf)"
   ]
  },
  {
   "cell_type": "code",
   "execution_count": 18,
   "id": "9e320c42-e7d3-4414-a802-bba59b409505",
   "metadata": {},
   "outputs": [],
   "source": [
    "# Model EValuation and Plotting"
   ]
  },
  {
   "cell_type": "code",
   "execution_count": 20,
   "id": "12b669ef-ddea-487e-9485-3a16f941d596",
   "metadata": {},
   "outputs": [
    {
     "name": "stdout",
     "output_type": "stream",
     "text": [
      "Classification Report: \n",
      "              precision    recall  f1-score   support\n",
      "\n",
      "           0       0.98      1.00      0.99       610\n",
      "           1       0.96      0.85      0.90        89\n",
      "\n",
      "    accuracy                           0.98       699\n",
      "   macro avg       0.97      0.92      0.95       699\n",
      "weighted avg       0.98      0.98      0.98       699\n",
      "\n",
      "Accuracy Score:  0.977110157367668\n",
      "AUROC Score: 0.9729\n"
     ]
    }
   ],
   "source": [
    "# If you have GridSearchCV object:\n",
    "\n",
    "from sklearn.metrics import classification_report, accuracy_score, roc_auc_score, roc_curve, auc,confusion_matrix\n",
    "\n",
    "clf_f = GridSearchCV( RandomForestClassifier(),\n",
    "                     {'n_estimators': [50, 100] ,'max_depth': [None, 10, 20]}, \n",
    "                      cv=5, n_jobs=-1, scoring='average_precision',return_train_score=False)\n",
    "\n",
    "clf_f.fit(X_train, y_train)\n",
    "\n",
    "y_pred_prob = clf_f.predict_proba(X_test)[:, 1]\n",
    "# y_pred = model.predict(X_test)\n",
    "pred_y = clf_f.predict(X_test)\n",
    "\n",
    "# Classification Report\n",
    "print (\"Classification Report: \")\n",
    "print (classification_report(y_test,clf.best_estimator_.predict(X_test)))\n",
    "\n",
    "# Accuracy Score\n",
    "print (\"Accuracy Score: \", accuracy_score(y_test, pred_y))\n",
    "# print (\"Best Params: \", clf.best_params_(y_test, pred_y))\n",
    "\n",
    "# AUROC Curve\n",
    "fpr, tpr, thresholds = roc_curve(y_test, y_pred_prob)\n",
    "roc_auc = auc(fpr, tpr)\n",
    "\n",
    "# AUROC Score\n",
    "auroc = roc_auc_score(y_test, y_pred_prob)\n",
    "print(f\"AUROC Score: {auroc:.4f}\")"
   ]
  },
  {
   "cell_type": "code",
   "execution_count": 21,
   "id": "40e9b4f0-9f60-4f92-9065-04d7a24df634",
   "metadata": {},
   "outputs": [
    {
     "name": "stdout",
     "output_type": "stream",
     "text": [
      "Random Forest Classifier:\n"
     ]
    },
    {
     "data": {
      "image/png": "[encoded data removed]",
      "text/plain": [
       "<Figure size 640x480 with 1 Axes>"
      ]
     },
     "metadata": {},
     "output_type": "display_data"
    },
    {
     "data": {
      "image/png": "[encoded data removed]",
      "text/plain": [
       "<Figure size 600x400 with 1 Axes>"
      ]
     },
     "metadata": {},
     "output_type": "display_data"
    }
   ],
   "source": [
    "    print(\"Random Forest Classifier:\")\n",
    "    plt.figure()\n",
    "    plt.plot(fpr, tpr, color='darkorange', lw=2, label='ROC curve (area = %0.2f)' % roc_auc)\n",
    "    plt.plot([0, 1], [0, 1], color='navy', lw=2, linestyle='--')\n",
    "    plt.xlim([0.0, 1.0])\n",
    "    plt.ylim([0.0, 1.05])\n",
    "    plt.xlabel('False Positive Rate')\n",
    "    plt.ylabel('True Positive Rate')\n",
    "    plt.title('Receiver Operating Characteristic (ROC)')\n",
    "    plt.legend(loc=\"lower right\")\n",
    "    plt.show()\n",
    "\n",
    "    # Display the confusion matrix\n",
    "    conf_matrix = confusion_matrix(y_test, pred_y)\n",
    "    plt.figure(figsize=(6, 4))\n",
    "    sns.heatmap(conf_matrix, annot=True, fmt='d', cmap='Blues', cbar=False)\n",
    "    plt.xlabel('Predicted Labels')\n",
    "    plt.ylabel('True Labels')\n",
    "    plt.title('Confusion Matrix')\n",
    "    plt.show()"
   ]
  },
  {
   "cell_type": "raw",
   "id": "479dcbbb-488c-448c-a2c5-3b0fef75122e",
   "metadata": {},
   "source": [
    "# Pickle and load the model for testing here\n",
    "\n",
    "import pickle\n",
    "pickle.dump(model, open('model.pkl','wb'))\n",
    "\n",
    "model = pickle.load(open('model.pkl','rb'))\n",
    "print(model.predict([[20.1, 56.3]]))"
   ]
  }
 ],
 "metadata": {
  "kernelspec": {
   "display_name": "Python 3 (ipykernel)",
   "language": "python",
   "name": "python3"
  },
  "language_info": {
   "codemirror_mode": {
    "name": "ipython",
    "version": 3
   },
   "file_extension": ".py",
   "mimetype": "text/x-python",
   "name": "python",
   "nbconvert_exporter": "python",
   "pygments_lexer": "ipython3",
   "version": "3.10.12"
  }
 },
 "nbformat": 4,
 "nbformat_minor": 5
}
